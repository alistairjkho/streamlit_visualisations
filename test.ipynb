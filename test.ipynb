{
 "cells": [
  {
   "cell_type": "code",
   "execution_count": 4,
   "metadata": {},
   "outputs": [],
   "source": [
    "import geopandas \n",
    "import pandas as pd\n",
    "import requests\n",
    "from io import StringIO"
   ]
  },
  {
   "cell_type": "code",
   "execution_count": 5,
   "metadata": {},
   "outputs": [
    {
     "name": "stderr",
     "output_type": "stream",
     "text": [
      "/var/folders/vr/s8b8bl8x7c9d9dv_r4w_9r_r0000gn/T/ipykernel_44388/3469602489.py:5: FutureWarning: Passing literal json to 'read_json' is deprecated and will be removed in a future version. To read from a literal string, wrap it in a 'StringIO' object.\n",
      "  abbrs = pd.read_json(response.text)\n"
     ]
    }
   ],
   "source": [
    "response = requests.get(\n",
    "    \"https://gist.githubusercontent.com/tvpmb/4734703/raw/\"\n",
    "    \"b54d03154c339ed3047c66fefcece4727dfc931a/US%2520State%2520List\"\n",
    ")\n",
    "abbrs = pd.read_json(response.text)"
   ]
  }
 ],
 "metadata": {
  "kernelspec": {
   "display_name": "streamlit_deploy",
   "language": "python",
   "name": "python3"
  },
  "language_info": {
   "codemirror_mode": {
    "name": "ipython",
    "version": 3
   },
   "file_extension": ".py",
   "mimetype": "text/x-python",
   "name": "python",
   "nbconvert_exporter": "python",
   "pygments_lexer": "ipython3",
   "version": "3.11.7"
  }
 },
 "nbformat": 4,
 "nbformat_minor": 2
}
